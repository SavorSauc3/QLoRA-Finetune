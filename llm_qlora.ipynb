{
 "cells": [
  {
   "cell_type": "code",
   "execution_count": 1,
   "metadata": {},
   "outputs": [
    {
     "name": "stdout",
     "output_type": "stream",
     "text": [
      "Note: you may need to restart the kernel to use updated packages.\n",
      "Note: you may need to restart the kernel to use updated packages.\n",
      "Note: you may need to restart the kernel to use updated packages.\n",
      "Note: you may need to restart the kernel to use updated packages.\n",
      "Note: you may need to restart the kernel to use updated packages.\n"
     ]
    }
   ],
   "source": [
    "# You only need to run this once per machine\n",
    "%pip install -q -U bitsandbytes\n",
    "%pip install -q -U git+https://github.com/huggingface/transformers.git\n",
    "%pip install -q -U git+https://github.com/huggingface/peft.git\n",
    "%pip install -q -U git+https://github.com/huggingface/accelerate.git\n",
    "%pip install -q -U datasets scipy ipywidgets matplotlib"
   ]
  },
  {
   "cell_type": "code",
   "execution_count": 2,
   "metadata": {},
   "outputs": [],
   "source": [
    "from accelerate import FullyShardedDataParallelPlugin, Accelerator\n",
    "from torch.distributed.fsdp.fully_sharded_data_parallel import FullOptimStateDictConfig, FullStateDictConfig\n",
    "\n",
    "fsdp_plugin = FullyShardedDataParallelPlugin(\n",
    "    state_dict_config=FullStateDictConfig(offload_to_cpu=True, rank0_only=False),\n",
    "    optim_state_dict_config=FullOptimStateDictConfig(offload_to_cpu=True, rank0_only=False),\n",
    ")\n",
    "\n",
    "accelerator = Accelerator(fsdp_plugin=fsdp_plugin)"
   ]
  },
  {
   "cell_type": "code",
   "execution_count": 3,
   "metadata": {},
   "outputs": [
    {
     "name": "stdout",
     "output_type": "stream",
     "text": [
      "2\n",
      "DatasetDict({\n",
      "    train: Dataset({\n",
      "        features: ['custom_instruction', 'topic', 'model_name', 'model', 'skip_prompt_formatting', 'category', 'conversations', 'views', 'language', 'id', 'title', 'idx', 'hash', 'avatarUrl', 'system_prompt', 'source'],\n",
      "        num_rows: 199309\n",
      "    })\n",
      "    test: Dataset({\n",
      "        features: ['custom_instruction', 'topic', 'model_name', 'model', 'skip_prompt_formatting', 'category', 'conversations', 'views', 'language', 'id', 'title', 'idx', 'hash', 'avatarUrl', 'system_prompt', 'source'],\n",
      "        num_rows: 1002\n",
      "    })\n",
      "})\n"
     ]
    }
   ],
   "source": [
    "from datasets import load_dataset\n",
    "dataset = load_dataset('teknium/OpenHermes-2.5', split='train')\n",
    "data_subset = dataset.train_test_split(test_size=0.2)['test'].train_test_split(test_size=0.005)\n",
    "dataset_len = len(data_subset)\n",
    "print(dataset_len)\n",
    "print(data_subset)"
   ]
  },
  {
   "cell_type": "code",
   "execution_count": 4,
   "metadata": {},
   "outputs": [
    {
     "data": {
      "application/vnd.jupyter.widget-view+json": {
       "model_id": "8490c093bb3b472696413a855a82b941",
       "version_major": 2,
       "version_minor": 0
      },
      "text/plain": [
       "Loading checkpoint shards:   0%|          | 0/3 [00:00<?, ?it/s]"
      ]
     },
     "metadata": {},
     "output_type": "display_data"
    }
   ],
   "source": [
    "import torch\n",
    "from transformers import AutoTokenizer, AutoModelForCausalLM, BitsAndBytesConfig\n",
    "\n",
    "base_model_id = \"mistralai/Mistral-7B-Instruct-v0.3\"\n",
    "bnb_config = BitsAndBytesConfig(\n",
    "    load_in_4bit=True,\n",
    "    bnb_4bit_use_double_quant=True,\n",
    "    bnb_4bit_quant_type=\"nf4\",\n",
    "    bnb_4bit_compute_dtype=torch.bfloat16\n",
    ")\n",
    "\n",
    "model = AutoModelForCausalLM.from_pretrained(base_model_id, quantization_config=bnb_config, device_map=torch.cuda.current_device())"
   ]
  },
  {
   "cell_type": "code",
   "execution_count": 5,
   "metadata": {},
   "outputs": [
    {
     "name": "stderr",
     "output_type": "stream",
     "text": [
      "You set `add_prefix_space`. The tokenizer needs to be converted from the slow tokenizers\n",
      "You are using the default legacy behaviour of the <class 'transformers.models.llama.tokenization_llama.LlamaTokenizer'>. This is expected, and simply means that the `legacy` (previous) behavior will be used so nothing changes for you. If you want to use the new behaviour, set `legacy=False`. This should only be set if you understand what it means, and thoroughly read the reason why this was added as explained in https://github.com/huggingface/transformers/pull/24565\n"
     ]
    }
   ],
   "source": [
    "tokenizer = AutoTokenizer.from_pretrained(\n",
    "    base_model_id,\n",
    "    add_eos_token=True,\n",
    "    add_bos_token=True, \n",
    ")"
   ]
  },
  {
   "cell_type": "code",
   "execution_count": 6,
   "metadata": {},
   "outputs": [],
   "source": [
    "def tokenize(prompt):\n",
    "    result = tokenizer(prompt)\n",
    "    result[\"labels\"] = result[\"input_ids\"].copy()\n",
    "    return result"
   ]
  },
  {
   "cell_type": "code",
   "execution_count": 7,
   "metadata": {},
   "outputs": [],
   "source": [
    "def generate_and_tokenize_prompt(data_point):\n",
    "    conv_length = len(data_point['conversations'])\n",
    "    if conv_length == 2:\n",
    "        full_prompt = \\\n",
    "        f\"\"\"\n",
    "        ### Question:\n",
    "        {data_point[\"conversations\"][0]['value']}\n",
    "        ### Answer\n",
    "        {data_point[\"conversations\"][1]['value']}\n",
    "        \"\"\"\n",
    "    elif conv_length == 3:\n",
    "        full_prompt = \\\n",
    "        f\"\"\"\n",
    "        {data_point['conversations'][0]['value']}\n",
    "        ### Question:\n",
    "        {data_point['conversations'][1]['value']}\n",
    "        ### Answer\n",
    "        {data_point['conversations'][2]['value']}\n",
    "        \"\"\"\n",
    "    else:\n",
    "        full_prompt = \\\n",
    "        f\"\"\"\n",
    "        {data_point['conversations'][0]['value']}\n",
    "        ### Question:\n",
    "        {data_point['conversations'][1]['value']}\n",
    "        ### Answer\n",
    "        {data_point['conversations'][2]['value']}\n",
    "        \"\"\"\n",
    "    return tokenize(full_prompt)\n"
   ]
  },
  {
   "cell_type": "code",
   "execution_count": 8,
   "metadata": {},
   "outputs": [
    {
     "name": "stdout",
     "output_type": "stream",
     "text": [
      "{'input_ids': [1, 29473, 781, 6158, 1763, 1228, 1164, 16875, 14660, 29491, 2015, 1390, 1136, 2879, 1136, 1032, 4406, 29491, 4372, 6309, 1117, 1066, 4928, 1040, 4406, 1158, 7920, 3839, 1158, 1136, 1309, 29491, 4791, 14569, 1040, 4406, 1841, 4475, 29501, 2171, 29501, 8459, 1072, 16973, 1342, 6712, 29491, 781, 6158, 1542, 23246, 29515, 781, 6158, 3146, 1935, 2840, 1040, 2116, 29572, 781, 22628, 5053, 1088, 5645, 1188, 29491, 9283, 1051, 1079, 1171, 1040, 1392, 1461, 2037, 1848, 1070, 1040, 7672, 2107, 1163, 1040, 2366, 11379, 1122, 16533, 29492, 1610, 781, 22628, 5053, 16533, 29492, 1171, 1040, 1392, 1461, 2037, 1040, 1848, 7672, 2107, 1163, 1040, 2366, 11379, 1070, 1088, 5645, 1188, 29491, 9283, 1051, 1079, 1610, 781, 6158, 1542, 27075, 781, 6158, 8036, 29473, 29508, 29515, 5707, 2328, 24516, 1072, 3148, 1040, 6514, 1072, 5461, 1070, 2198, 13039, 29491, 781, 781, 27736, 1404, 29473, 29508, 29515, 3122, 5053, 1088, 5645, 1188, 29491, 9283, 1051, 1079, 1171, 1040, 1392, 1461, 2037, 1848, 1070, 1040, 7672, 2107, 1163, 1040, 2366, 11379, 1122, 16533, 29492, 29491, 781, 27736, 1404, 29473, 29518, 29515, 3122, 5053, 16533, 29492, 1171, 1040, 1392, 1461, 2037, 1040, 1848, 7672, 2107, 1163, 1040, 2366, 11379, 1070, 1088, 5645, 1188, 29491, 9283, 1051, 1079, 29491, 781, 781, 10745, 29473, 29518, 29515, 15988, 2343, 1040, 2713, 5944, 1065, 2198, 13039, 29491, 781, 781, 27736, 1404, 29473, 29508, 8156, 12258, 29481, 29515, 781, 29501, 1162, 1795, 29515, 1088, 5645, 1188, 29491, 9283, 1051, 1079, 781, 29501, 23119, 4553, 29515, 16533, 29492, 781, 29501, 10392, 29515, 2037, 1848, 1070, 1040, 7672, 2107, 1163, 1040, 2366, 11379, 781, 781, 27736, 1404, 29473, 29518, 8156, 12258, 29481, 29515, 781, 29501, 1162, 1795, 29515, 16533, 29492, 1093, 7742, 4737, 1066, 1115, 1032, 12758, 1158, 16533, 29492, 1117, 7851, 1158, 6349, 1065, 1040, 1675, 13039, 29499, 781, 29501, 23119, 4553, 29515, 1227, 7851, 781, 29501, 10392, 29515, 2037, 1040, 1848, 7672, 2107, 1163, 1040, 2366, 11379, 1070, 1088, 5645, 1188, 29491, 9283, 1051, 1079, 781, 781, 10745, 29473, 29538, 29515, 4648, 1260, 1040, 2713, 5944, 1070, 2328, 24516, 29491, 781, 781, 29501, 1162, 1795, 29515, 28356, 1093, 29506, 5645, 1188, 29491, 9283, 1051, 1079, 8477, 16533, 29492, 29499, 781, 29501, 23119, 4553, 29515, 28356, 1093, 29517, 1804, 29492, 8477, 1227, 7851, 29499, 781, 29501, 10392, 29515, 1086, 4414, 1114, 2349, 1093, 16016, 1848, 1070, 1040, 7672, 2107, 1163, 1040, 2366, 11379, 8477, 2037, 1040, 1848, 7672, 2107, 1163, 1040, 2366, 11379, 1070, 1088, 5645, 1188, 29491, 9283, 1051, 1079, 29499, 781, 781, 10745, 29473, 29549, 29515, 17180, 1032, 13654, 3586, 1124, 1040, 11135, 1070, 1040, 2713, 5944, 29491, 781, 781, 1624, 17481, 29515, 2538, 29493, 1935, 24516, 1279, 1227, 2840, 1040, 2116, 2738, 29491, 2155, 1117, 1032, 24188, 29488, 6171, 1065, 1040, 5053, 29510, 29481, 1909, 29493, 1040, 6349, 29510, 29481, 7471, 29493, 1072, 1040, 5461, 1070, 1040, 3760, 5970, 1066, 7672, 2107, 1163, 2366, 11379, 29491, 781, 1041, 2], 'attention_mask': [1, 1, 1, 1, 1, 1, 1, 1, 1, 1, 1, 1, 1, 1, 1, 1, 1, 1, 1, 1, 1, 1, 1, 1, 1, 1, 1, 1, 1, 1, 1, 1, 1, 1, 1, 1, 1, 1, 1, 1, 1, 1, 1, 1, 1, 1, 1, 1, 1, 1, 1, 1, 1, 1, 1, 1, 1, 1, 1, 1, 1, 1, 1, 1, 1, 1, 1, 1, 1, 1, 1, 1, 1, 1, 1, 1, 1, 1, 1, 1, 1, 1, 1, 1, 1, 1, 1, 1, 1, 1, 1, 1, 1, 1, 1, 1, 1, 1, 1, 1, 1, 1, 1, 1, 1, 1, 1, 1, 1, 1, 1, 1, 1, 1, 1, 1, 1, 1, 1, 1, 1, 1, 1, 1, 1, 1, 1, 1, 1, 1, 1, 1, 1, 1, 1, 1, 1, 1, 1, 1, 1, 1, 1, 1, 1, 1, 1, 1, 1, 1, 1, 1, 1, 1, 1, 1, 1, 1, 1, 1, 1, 1, 1, 1, 1, 1, 1, 1, 1, 1, 1, 1, 1, 1, 1, 1, 1, 1, 1, 1, 1, 1, 1, 1, 1, 1, 1, 1, 1, 1, 1, 1, 1, 1, 1, 1, 1, 1, 1, 1, 1, 1, 1, 1, 1, 1, 1, 1, 1, 1, 1, 1, 1, 1, 1, 1, 1, 1, 1, 1, 1, 1, 1, 1, 1, 1, 1, 1, 1, 1, 1, 1, 1, 1, 1, 1, 1, 1, 1, 1, 1, 1, 1, 1, 1, 1, 1, 1, 1, 1, 1, 1, 1, 1, 1, 1, 1, 1, 1, 1, 1, 1, 1, 1, 1, 1, 1, 1, 1, 1, 1, 1, 1, 1, 1, 1, 1, 1, 1, 1, 1, 1, 1, 1, 1, 1, 1, 1, 1, 1, 1, 1, 1, 1, 1, 1, 1, 1, 1, 1, 1, 1, 1, 1, 1, 1, 1, 1, 1, 1, 1, 1, 1, 1, 1, 1, 1, 1, 1, 1, 1, 1, 1, 1, 1, 1, 1, 1, 1, 1, 1, 1, 1, 1, 1, 1, 1, 1, 1, 1, 1, 1, 1, 1, 1, 1, 1, 1, 1, 1, 1, 1, 1, 1, 1, 1, 1, 1, 1, 1, 1, 1, 1, 1, 1, 1, 1, 1, 1, 1, 1, 1, 1, 1, 1, 1, 1, 1, 1, 1, 1, 1, 1, 1, 1, 1, 1, 1, 1, 1, 1, 1, 1, 1, 1, 1, 1, 1, 1, 1, 1, 1, 1, 1, 1, 1, 1, 1, 1, 1, 1, 1, 1, 1, 1, 1, 1, 1, 1, 1, 1, 1, 1, 1, 1, 1, 1, 1, 1, 1, 1, 1, 1, 1, 1, 1, 1, 1, 1, 1, 1, 1, 1, 1, 1, 1, 1, 1, 1, 1, 1, 1, 1, 1, 1, 1, 1, 1, 1, 1, 1, 1, 1, 1, 1, 1, 1, 1, 1, 1, 1, 1, 1, 1, 1, 1, 1, 1, 1, 1, 1, 1], 'labels': [1, 29473, 781, 6158, 1763, 1228, 1164, 16875, 14660, 29491, 2015, 1390, 1136, 2879, 1136, 1032, 4406, 29491, 4372, 6309, 1117, 1066, 4928, 1040, 4406, 1158, 7920, 3839, 1158, 1136, 1309, 29491, 4791, 14569, 1040, 4406, 1841, 4475, 29501, 2171, 29501, 8459, 1072, 16973, 1342, 6712, 29491, 781, 6158, 1542, 23246, 29515, 781, 6158, 3146, 1935, 2840, 1040, 2116, 29572, 781, 22628, 5053, 1088, 5645, 1188, 29491, 9283, 1051, 1079, 1171, 1040, 1392, 1461, 2037, 1848, 1070, 1040, 7672, 2107, 1163, 1040, 2366, 11379, 1122, 16533, 29492, 1610, 781, 22628, 5053, 16533, 29492, 1171, 1040, 1392, 1461, 2037, 1040, 1848, 7672, 2107, 1163, 1040, 2366, 11379, 1070, 1088, 5645, 1188, 29491, 9283, 1051, 1079, 1610, 781, 6158, 1542, 27075, 781, 6158, 8036, 29473, 29508, 29515, 5707, 2328, 24516, 1072, 3148, 1040, 6514, 1072, 5461, 1070, 2198, 13039, 29491, 781, 781, 27736, 1404, 29473, 29508, 29515, 3122, 5053, 1088, 5645, 1188, 29491, 9283, 1051, 1079, 1171, 1040, 1392, 1461, 2037, 1848, 1070, 1040, 7672, 2107, 1163, 1040, 2366, 11379, 1122, 16533, 29492, 29491, 781, 27736, 1404, 29473, 29518, 29515, 3122, 5053, 16533, 29492, 1171, 1040, 1392, 1461, 2037, 1040, 1848, 7672, 2107, 1163, 1040, 2366, 11379, 1070, 1088, 5645, 1188, 29491, 9283, 1051, 1079, 29491, 781, 781, 10745, 29473, 29518, 29515, 15988, 2343, 1040, 2713, 5944, 1065, 2198, 13039, 29491, 781, 781, 27736, 1404, 29473, 29508, 8156, 12258, 29481, 29515, 781, 29501, 1162, 1795, 29515, 1088, 5645, 1188, 29491, 9283, 1051, 1079, 781, 29501, 23119, 4553, 29515, 16533, 29492, 781, 29501, 10392, 29515, 2037, 1848, 1070, 1040, 7672, 2107, 1163, 1040, 2366, 11379, 781, 781, 27736, 1404, 29473, 29518, 8156, 12258, 29481, 29515, 781, 29501, 1162, 1795, 29515, 16533, 29492, 1093, 7742, 4737, 1066, 1115, 1032, 12758, 1158, 16533, 29492, 1117, 7851, 1158, 6349, 1065, 1040, 1675, 13039, 29499, 781, 29501, 23119, 4553, 29515, 1227, 7851, 781, 29501, 10392, 29515, 2037, 1040, 1848, 7672, 2107, 1163, 1040, 2366, 11379, 1070, 1088, 5645, 1188, 29491, 9283, 1051, 1079, 781, 781, 10745, 29473, 29538, 29515, 4648, 1260, 1040, 2713, 5944, 1070, 2328, 24516, 29491, 781, 781, 29501, 1162, 1795, 29515, 28356, 1093, 29506, 5645, 1188, 29491, 9283, 1051, 1079, 8477, 16533, 29492, 29499, 781, 29501, 23119, 4553, 29515, 28356, 1093, 29517, 1804, 29492, 8477, 1227, 7851, 29499, 781, 29501, 10392, 29515, 1086, 4414, 1114, 2349, 1093, 16016, 1848, 1070, 1040, 7672, 2107, 1163, 1040, 2366, 11379, 8477, 2037, 1040, 1848, 7672, 2107, 1163, 1040, 2366, 11379, 1070, 1088, 5645, 1188, 29491, 9283, 1051, 1079, 29499, 781, 781, 10745, 29473, 29549, 29515, 17180, 1032, 13654, 3586, 1124, 1040, 11135, 1070, 1040, 2713, 5944, 29491, 781, 781, 1624, 17481, 29515, 2538, 29493, 1935, 24516, 1279, 1227, 2840, 1040, 2116, 2738, 29491, 2155, 1117, 1032, 24188, 29488, 6171, 1065, 1040, 5053, 29510, 29481, 1909, 29493, 1040, 6349, 29510, 29481, 7471, 29493, 1072, 1040, 5461, 1070, 1040, 3760, 5970, 1066, 7672, 2107, 1163, 2366, 11379, 29491, 781, 1041, 2]}\n"
     ]
    }
   ],
   "source": [
    "print(generate_and_tokenize_prompt(data_subset['train'][0]))"
   ]
  },
  {
   "cell_type": "code",
   "execution_count": 9,
   "metadata": {},
   "outputs": [
    {
     "data": {
      "application/vnd.jupyter.widget-view+json": {
       "model_id": "c82972eb9a07480f933d82a3aedce93b",
       "version_major": 2,
       "version_minor": 0
      },
      "text/plain": [
       "Map:   0%|          | 0/199309 [00:00<?, ? examples/s]"
      ]
     },
     "metadata": {},
     "output_type": "display_data"
    },
    {
     "data": {
      "application/vnd.jupyter.widget-view+json": {
       "model_id": "3c54b221a9174444b42cd2bf0d14f773",
       "version_major": 2,
       "version_minor": 0
      },
      "text/plain": [
       "Map:   0%|          | 0/1002 [00:00<?, ? examples/s]"
      ]
     },
     "metadata": {},
     "output_type": "display_data"
    }
   ],
   "source": [
    "train_dataset = data_subset['train']\n",
    "eval_dataset = data_subset['test']\n",
    "tokenized_train_dataset = train_dataset.map(generate_and_tokenize_prompt)\n",
    "tokenized_val_dataset = eval_dataset.map(generate_and_tokenize_prompt)"
   ]
  },
  {
   "cell_type": "code",
   "execution_count": 10,
   "metadata": {},
   "outputs": [
    {
     "name": "stdout",
     "output_type": "stream",
     "text": [
      "<s> \n",
      "        ### Question:\n",
      "        Consider the following system of linear equations:\n",
      "```\n",
      "2x - 3y + 4z = 10\n",
      "3x + 2y - z = 3\n",
      "2x + y - 2z = 0\n",
      "4x - y + 3z = 4\n",
      "```\n",
      "Solve the system of equations using matrix equations and find the values of x, y, and z.\n",
      "        ### Answer\n",
      "        To solve the system of linear equations using matrix equations, we first represent the system as an augmented matrix:\n",
      "\n",
      "```\n",
      "[ 2 -3  4 | 10]\n",
      "[ 3  2 -1 |  3]\n",
      "[ 2  1 -2 |  0]\n",
      "[ 4 -1  3 |  4]\n",
      "```\n",
      "\n",
      "Next, we perform Gaussian elimination to obtain a row-echelon form:\n",
      "\n",
      "1. Swap row 1 and row 2:\n",
      "```\n",
      "[ 3  2 -1 |  3]\n",
      "[ 2 -3  4 | 10]\n",
      "[ 2  1 -2 |  0]\n",
      "[ 4 -1  3 |  4]\n",
      "```\n",
      "\n",
      "2. Replace row 2 with (-2/3)row 1 + row 2, row 3 with (-2/3)row 1 + row 3, and row 4 with (-4/3)row 1 + row 4:\n",
      "```\n",
      "[ 3   2  -1 |   3]\n",
      "[ 0  -5   6 |   8]\n",
      "[ 0  -1/3 -4/3|  -2]\n",
      "[ 0  -5/3  5 |  -4]\n",
      "```\n",
      "\n",
      "3. Multiply row 3 by -3 and swap row 2 and row 3:\n",
      "```\n",
      "[ 3   2  -1 |   3]\n",
      "[ 0   1   4 |   6]\n",
      "[ 0  -5   6 |   8]\n",
      "[ 0  -5/3  5 |  -4]\n",
      "```\n",
      "\n",
      "4. Replace row 1 with (-2)row 2 + row 1, row 3 with 5row 2 + row 3, and row 4 with (5/3)row 2 + row 4:\n",
      "```\n",
      "[ 3   0  -9 |  -9]\n",
      "[ 0   1   4 |   6]\n",
      "[ 0   0  26 |  38]\n",
      "[ 0   0   5 |   6]\n",
      "```\n",
      "\n",
      "5. Divide row 3 by 26 and row 4 by 5:\n",
      "```\n",
      "[ 3   0  -9 |  -9]\n",
      "[ 0   1   4 |   6]\n",
      "[ 0   0   1 |  38/26]\n",
      "[ 0   0   1 |   6/5]\n",
      "```\n",
      "\n",
      "6. Replace row 1 with 9row 3 + row 1, row 2 with -4row 3 + row 2, and row 4 with (-6/5)row 3 + row 4:\n",
      "```\n",
      "[ 3   0   0 |   3]\n",
      "[ 0   1   0 |  -2]\n",
      "[ 0   0   1 |  19/13]\n",
      "[ 0   0   0 | -14/13]\n",
      "```\n",
      "\n",
      "The last row of the row-echelon form indicates that there is no solution to the system of linear equations, as 0x + 0y + 0z = -14/13 is not possible. Therefore, the given system of linear equations has no solution.\n",
      "        </s>\n"
     ]
    }
   ],
   "source": [
    "untokenized_text = tokenizer.decode(tokenized_train_dataset[3]['input_ids']) \n",
    "print(untokenized_text)"
   ]
  },
  {
   "cell_type": "code",
   "execution_count": 11,
   "metadata": {},
   "outputs": [
    {
     "name": "stdout",
     "output_type": "stream",
     "text": [
      "200311\n"
     ]
    },
    {
     "data": {
      "image/png": "[encoded data removed]",
      "text/plain": [
       "<Figure size 1000x600 with 1 Axes>"
      ]
     },
     "metadata": {},
     "output_type": "display_data"
    }
   ],
   "source": [
    "import matplotlib.pyplot as plt\n",
    "\n",
    "def plot_data_lengths(tokenized_train_dataset, tokenized_val_dataset):\n",
    "    lengths = [len(x['input_ids']) for x in tokenized_train_dataset]\n",
    "    lengths += [len(x['input_ids']) for x in tokenized_val_dataset]\n",
    "    print(len(lengths))\n",
    "\n",
    "    # Plotting the histogram\n",
    "    plt.figure(figsize=(10, 6))\n",
    "    plt.hist(lengths, bins=50, alpha=0.7, color='blue')\n",
    "    plt.xlabel('Length of input_ids')\n",
    "    plt.ylabel('Frequency')\n",
    "    plt.title('Distribution of Lengths of input_ids')\n",
    "    plt.show()\n",
    "\n",
    "plot_data_lengths(tokenized_train_dataset, tokenized_val_dataset)"
   ]
  },
  {
   "cell_type": "code",
   "execution_count": 12,
   "metadata": {},
   "outputs": [],
   "source": [
    "max_length = 1600 # This was an appropriate max length for my dataset\n",
    "\n",
    "# redefine the tokenize function and tokenizer\n",
    "\n",
    "tokenizer = AutoTokenizer.from_pretrained(\n",
    "    base_model_id,\n",
    "    padding_side=\"left\",\n",
    "    add_eos_token=True,  \n",
    "    add_bos_token=True,  \n",
    ")\n",
    "tokenizer.pad_token = tokenizer.eos_token\n",
    "\n",
    "\n",
    "def tokenize(prompt):\n",
    "    result = tokenizer(\n",
    "        prompt,\n",
    "        truncation=True,\n",
    "        max_length=max_length,\n",
    "        padding=\"max_length\",\n",
    "    )\n",
    "    result[\"labels\"] = result[\"input_ids\"].copy()\n",
    "    return result"
   ]
  },
  {
   "cell_type": "code",
   "execution_count": 13,
   "metadata": {},
   "outputs": [
    {
     "data": {
      "application/vnd.jupyter.widget-view+json": {
       "model_id": "f34ad1ab2a5943d6b9da31e8dedf949a",
       "version_major": 2,
       "version_minor": 0
      },
      "text/plain": [
       "Map:   0%|          | 0/199309 [00:00<?, ? examples/s]"
      ]
     },
     "metadata": {},
     "output_type": "display_data"
    },
    {
     "data": {
      "application/vnd.jupyter.widget-view+json": {
       "model_id": "8620d5258b9e40748fa849f76c54b9c7",
       "version_major": 2,
       "version_minor": 0
      },
      "text/plain": [
       "Map:   0%|          | 0/1002 [00:00<?, ? examples/s]"
      ]
     },
     "metadata": {},
     "output_type": "display_data"
    }
   ],
   "source": [
    "tokenized_train_dataset = train_dataset.map(generate_and_tokenize_prompt)\n",
    "tokenized_val_dataset = eval_dataset.map(generate_and_tokenize_prompt)"
   ]
  },
  {
   "cell_type": "code",
   "execution_count": 14,
   "metadata": {},
   "outputs": [
    {
     "name": "stdout",
     "output_type": "stream",
     "text": [
      "[2, 2, 2, 2, 2, 2, 2, 2, 2, 2, 2, 2, 2, 2, 2, 2, 2, 2, 2, 2, 2, 2, 2, 2, 2, 2, 2, 2, 2, 2, 2, 2, 2, 2, 2, 2, 2, 2, 2, 2, 2, 2, 2, 2, 2, 2, 2, 2, 2, 2, 2, 2, 2, 2, 2, 2, 2, 2, 2, 2, 2, 2, 2, 2, 2, 2, 2, 2, 2, 2, 2, 2, 2, 2, 2, 2, 2, 2, 2, 2, 2, 2, 2, 2, 2, 2, 2, 2, 2, 2, 2, 2, 2, 2, 2, 2, 2, 2, 2, 2, 2, 2, 2, 2, 2, 2, 2, 2, 2, 2, 2, 2, 2, 2, 2, 2, 2, 2, 2, 2, 2, 2, 2, 2, 2, 2, 2, 2, 2, 2, 2, 2, 2, 2, 2, 2, 2, 2, 2, 2, 2, 2, 2, 2, 2, 2, 2, 2, 2, 2, 2, 2, 2, 2, 2, 2, 2, 2, 2, 2, 2, 2, 2, 2, 2, 2, 2, 2, 2, 2, 2, 2, 2, 2, 2, 2, 2, 2, 2, 2, 2, 2, 2, 2, 2, 2, 2, 2, 2, 2, 2, 2, 2, 2, 2, 2, 2, 2, 2, 2, 2, 2, 2, 2, 2, 2, 2, 2, 2, 2, 2, 2, 2, 2, 2, 2, 2, 2, 2, 2, 2, 2, 2, 2, 2, 2, 2, 2, 2, 2, 2, 2, 2, 2, 2, 2, 2, 2, 2, 2, 2, 2, 2, 2, 2, 2, 2, 2, 2, 2, 2, 2, 2, 2, 2, 2, 2, 2, 2, 2, 2, 2, 2, 2, 2, 2, 2, 2, 2, 2, 2, 2, 2, 2, 2, 2, 2, 2, 2, 2, 2, 2, 2, 2, 2, 2, 2, 2, 2, 2, 2, 2, 2, 2, 2, 2, 2, 2, 2, 2, 2, 2, 2, 2, 2, 2, 2, 2, 2, 2, 2, 2, 2, 2, 2, 2, 2, 2, 2, 2, 2, 2, 2, 2, 2, 2, 2, 2, 2, 2, 2, 2, 2, 2, 2, 2, 2, 2, 2, 2, 2, 2, 2, 2, 2, 2, 2, 2, 2, 2, 2, 2, 2, 2, 2, 2, 2, 2, 2, 2, 2, 2, 2, 2, 2, 2, 2, 2, 2, 2, 2, 2, 2, 2, 2, 2, 2, 2, 2, 2, 2, 2, 2, 2, 2, 2, 2, 2, 2, 2, 2, 2, 2, 2, 2, 2, 2, 2, 2, 2, 2, 2, 2, 2, 2, 2, 2, 2, 2, 2, 2, 2, 2, 2, 2, 2, 2, 2, 2, 2, 2, 2, 2, 2, 2, 2, 2, 2, 2, 2, 2, 2, 2, 2, 2, 2, 2, 2, 2, 2, 2, 2, 2, 2, 2, 2, 2, 2, 2, 2, 2, 2, 2, 2, 2, 2, 2, 2, 2, 2, 2, 2, 2, 2, 2, 2, 2, 2, 2, 2, 2, 2, 2, 2, 2, 2, 2, 2, 2, 2, 2, 2, 2, 2, 2, 2, 2, 2, 2, 2, 2, 2, 2, 2, 2, 2, 2, 2, 2, 2, 2, 2, 2, 2, 2, 2, 2, 2, 2, 2, 2, 2, 2, 2, 2, 2, 2, 2, 2, 2, 2, 2, 2, 2, 2, 2, 2, 2, 2, 2, 2, 2, 2, 2, 2, 2, 2, 2, 2, 2, 2, 2, 2, 2, 2, 2, 2, 2, 2, 2, 2, 2, 2, 2, 2, 2, 2, 2, 2, 2, 2, 2, 2, 2, 2, 2, 2, 2, 2, 2, 2, 2, 2, 2, 2, 2, 2, 2, 2, 2, 2, 2, 2, 2, 2, 2, 2, 2, 2, 2, 2, 2, 2, 2, 2, 2, 2, 2, 2, 2, 2, 2, 2, 2, 2, 2, 2, 2, 2, 2, 2, 2, 2, 2, 2, 2, 2, 2, 2, 2, 2, 2, 2, 2, 2, 2, 2, 2, 2, 2, 2, 2, 2, 2, 2, 2, 2, 2, 2, 2, 2, 2, 2, 2, 2, 2, 2, 2, 2, 2, 2, 2, 2, 2, 2, 2, 2, 2, 2, 2, 2, 2, 2, 2, 2, 2, 2, 2, 2, 2, 2, 2, 2, 2, 2, 2, 2, 2, 2, 2, 2, 2, 2, 2, 2, 2, 2, 2, 2, 2, 2, 2, 2, 2, 2, 2, 2, 2, 2, 2, 2, 2, 2, 2, 2, 2, 2, 2, 2, 2, 2, 2, 2, 2, 2, 2, 2, 2, 2, 2, 2, 2, 2, 2, 2, 2, 2, 2, 2, 2, 2, 2, 2, 2, 2, 2, 2, 2, 2, 2, 2, 2, 2, 2, 2, 2, 2, 2, 2, 2, 2, 2, 2, 2, 2, 2, 2, 2, 2, 2, 2, 2, 2, 2, 2, 2, 2, 2, 2, 2, 2, 2, 2, 2, 2, 2, 2, 2, 2, 2, 2, 2, 2, 2, 2, 2, 2, 2, 2, 2, 2, 2, 2, 2, 2, 2, 2, 2, 2, 2, 2, 2, 2, 2, 2, 2, 2, 2, 2, 2, 2, 2, 2, 2, 2, 2, 2, 2, 2, 2, 2, 2, 2, 2, 2, 2, 2, 2, 2, 2, 2, 2, 2, 2, 2, 2, 2, 2, 2, 2, 2, 2, 2, 2, 2, 2, 2, 2, 2, 2, 2, 2, 2, 2, 2, 2, 2, 2, 2, 2, 2, 2, 2, 2, 2, 2, 2, 2, 2, 2, 2, 2, 2, 2, 2, 2, 2, 2, 2, 2, 2, 2, 2, 2, 2, 2, 2, 2, 2, 2, 2, 2, 2, 2, 2, 2, 2, 2, 2, 2, 2, 2, 2, 2, 2, 2, 2, 2, 2, 2, 2, 2, 2, 2, 2, 2, 2, 2, 2, 2, 2, 2, 2, 2, 2, 2, 2, 2, 2, 2, 2, 2, 2, 2, 2, 2, 2, 2, 2, 2, 2, 2, 2, 2, 2, 2, 2, 2, 2, 2, 2, 2, 2, 2, 2, 2, 2, 2, 2, 2, 2, 2, 2, 2, 2, 2, 2, 2, 2, 2, 2, 2, 2, 2, 2, 2, 2, 2, 2, 2, 2, 2, 2, 2, 2, 2, 2, 2, 2, 2, 2, 2, 2, 2, 2, 2, 2, 2, 2, 2, 2, 2, 2, 2, 2, 2, 2, 2, 2, 2, 2, 2, 2, 2, 2, 2, 2, 2, 2, 2, 2, 2, 2, 2, 2, 2, 2, 2, 2, 2, 2, 2, 2, 2, 2, 2, 2, 2, 2, 2, 2, 2, 2, 2, 2, 2, 2, 2, 2, 2, 2, 2, 2, 2, 2, 2, 2, 2, 2, 2, 2, 2, 2, 2, 2, 2, 2, 2, 2, 2, 2, 2, 2, 2, 2, 2, 2, 2, 2, 2, 2, 2, 2, 2, 2, 2, 2, 2, 2, 2, 2, 2, 2, 2, 2, 2, 2, 2, 2, 2, 2, 2, 2, 2, 2, 2, 2, 2, 2, 2, 2, 2, 2, 2, 2, 2, 2, 2, 2, 2, 2, 2, 2, 2, 2, 2, 2, 2, 2, 2, 2, 2, 2, 2, 2, 2, 2, 2, 2, 2, 2, 2, 2, 2, 2, 2, 2, 2, 2, 2, 2, 2, 2, 2, 2, 2, 2, 2, 2, 2, 2, 2, 2, 2, 2, 2, 2, 2, 2, 2, 2, 2, 2, 2, 2, 2, 2, 2, 2, 2, 2, 2, 2, 2, 2, 2, 2, 2, 2, 2, 2, 2, 2, 2, 2, 2, 2, 2, 2, 2, 2, 2, 2, 2, 2, 2, 2, 2, 2, 2, 2, 2, 2, 2, 2, 2, 2, 2, 2, 2, 2, 2, 2, 2, 2, 2, 2, 2, 2, 2, 2, 2, 2, 2, 2, 2, 2, 2, 2, 2, 2, 2, 2, 2, 2, 2, 2, 2, 2, 2, 2, 2, 2, 2, 2, 2, 2, 2, 2, 2, 2, 2, 2, 2, 2, 2, 2, 2, 2, 2, 2, 2, 2, 2, 2, 2, 2, 2, 2, 2, 2, 2, 2, 2, 2, 2, 2, 2, 2, 2, 2, 2, 2, 2, 2, 2, 2, 2, 2, 2, 2, 2, 2, 2, 2, 2, 2, 2, 2, 2, 2, 2, 2, 2, 2, 2, 2, 2, 2, 2, 2, 2, 2, 2, 2, 2, 2, 2, 2, 2, 2, 2, 2, 2, 2, 2, 2, 2, 2, 2, 2, 2, 2, 2, 2, 2, 2, 2, 2, 2, 2, 2, 2, 2, 2, 2, 2, 2, 2, 2, 2, 2, 2, 2, 2, 2, 2, 2, 2, 2, 2, 2, 2, 2, 2, 2, 2, 2, 2, 2, 2, 2, 2, 2, 2, 2, 2, 2, 2, 2, 2, 2, 2, 2, 2, 2, 2, 2, 2, 2, 2, 2, 2, 2, 2, 2, 2, 2, 2, 2, 2, 2, 2, 2, 2, 2, 2, 2, 2, 2, 2, 2, 2, 2, 2, 2, 2, 2, 2, 2, 1, 29473, 781, 6158, 1542, 23246, 29515, 781, 6158, 28792, 1137, 1040, 6453, 1070, 1040, 1198, 1926, 1117, 5600, 9455, 1114, 6241, 1040, 8299, 1070, 1032, 22285, 1070, 14398, 1197, 29508, 29502, 4686, 29508, 29538, 29520, 1182, 4711, 29519, 29613, 4968, 5892, 6706, 19831, 1120, 6510, 1066, 12447, 1040, 6907, 1065, 1040, 4182, 29501, 2795, 15976, 3151, 29501, 17507, 4176, 3708, 1066, 1040, 11557, 1198, 1926, 2437, 29491, 1183, 5396, 4176, 9072, 1254, 1040, 14812, 1507, 1146, 1427, 24596, 1369, 1040, 18104, 1149, 1072, 1117, 1206, 6096, 1197, 29480, 29544, 1245, 1040, 12793, 5750, 1117, 25047, 29474, 1954, 1500, 29473, 29549, 1182, 2625, 1182, 7258, 29498, 29502, 1176, 2545, 1738, 1197, 29592, 29544, 1117, 1040, 4326, 1070, 1198, 1926, 6453, 3141, 1040, 22285, 1070, 14398, 1197, 29480, 2483, 1183, 15965, 1070, 1040, 16326, 1117, 10646, 2567, 1254, 25990, 1137, 1040, 1207, 26491, 7767, 1065, 1646, 6688, 29544, 1117, 14083, 7298, 1066, 29473, 29508, 3141, 1040, 18104, 1149, 29491, 781, 6158, 1542, 27075, 781, 1041, 29508, 29491, 29518, 781, 1041, 2]\n"
     ]
    }
   ],
   "source": [
    "print(tokenized_train_dataset[1]['input_ids'])"
   ]
  },
  {
   "cell_type": "code",
   "execution_count": 39,
   "metadata": {},
   "outputs": [
    {
     "name": "stdout",
     "output_type": "stream",
     "text": [
      "</s></s></s></s></s></s></s></s></s></s></s></s></s></s></s></s></s></s></s></s></s></s></s></s></s></s></s></s></s></s></s></s></s></s></s></s></s></s></s></s></s></s></s></s></s></s></s></s></s></s></s></s></s></s></s></s></s></s></s></s></s></s></s></s></s></s></s></s></s></s></s></s></s></s></s></s></s></s></s></s></s></s></s></s></s></s></s></s></s></s></s></s></s></s></s></s></s></s></s></s></s></s></s></s></s></s></s></s></s></s></s></s></s></s></s></s></s></s></s></s></s></s></s></s></s></s></s></s></s></s></s></s></s></s></s></s></s></s></s></s></s></s></s></s></s></s></s></s></s></s></s></s></s></s></s></s></s></s></s></s></s></s></s></s></s></s></s></s></s></s></s></s></s></s></s></s></s></s></s></s></s></s></s></s></s></s></s></s></s></s></s></s></s></s></s></s></s></s></s></s></s></s></s></s></s></s></s></s></s></s></s></s></s></s></s></s></s></s></s></s></s></s></s></s></s></s></s></s></s></s></s></s></s></s></s></s></s></s></s></s></s></s></s></s></s></s></s></s></s></s></s></s></s></s></s></s></s></s></s></s></s></s></s></s></s></s></s></s></s></s></s></s></s></s></s></s></s></s></s></s></s></s></s></s></s></s></s></s></s></s></s></s></s></s></s></s></s></s></s></s></s></s></s></s></s></s></s></s></s></s></s></s></s></s></s></s></s></s></s></s></s></s></s></s></s></s></s></s></s></s></s></s></s></s></s></s></s></s></s></s></s></s></s></s></s></s></s></s></s></s></s></s></s></s></s></s></s></s></s></s></s></s></s></s></s></s></s></s></s></s></s></s></s></s></s></s></s></s></s></s></s></s></s></s></s></s></s></s></s></s></s></s></s></s></s></s></s></s></s></s></s></s></s></s></s></s></s></s></s></s></s></s></s></s></s></s></s></s></s></s></s></s></s></s></s></s></s></s></s></s></s></s></s></s></s></s></s></s></s></s></s></s></s></s></s></s></s></s></s></s></s></s></s></s></s></s></s></s></s></s></s></s></s></s></s></s></s></s></s></s></s></s></s></s></s></s></s></s></s></s></s></s></s></s></s></s></s></s></s></s></s></s></s></s></s></s></s></s></s></s></s></s></s></s></s></s></s></s></s></s></s></s></s></s></s></s></s></s></s></s></s></s></s></s></s></s></s></s></s></s></s></s></s></s></s></s></s></s></s></s></s></s></s></s></s></s></s></s></s></s></s></s></s></s></s></s></s></s></s></s></s></s></s></s></s></s></s></s></s></s></s></s></s></s></s></s></s></s></s></s></s></s></s></s></s></s></s></s></s></s></s></s></s></s></s></s></s></s></s></s></s></s></s></s></s></s></s></s></s></s></s></s></s></s></s></s></s></s></s></s></s></s></s></s></s></s></s></s></s></s></s></s></s></s></s></s></s></s></s></s></s></s></s></s></s></s></s></s></s></s></s></s></s></s></s></s></s></s></s></s></s></s></s></s></s></s></s></s></s></s></s></s></s></s></s></s></s></s></s></s></s></s></s></s></s></s></s></s></s></s></s></s></s></s></s></s></s></s></s></s></s></s></s></s></s></s></s></s></s></s></s></s></s></s></s></s></s></s></s></s></s></s></s></s></s></s></s></s></s></s></s></s></s></s></s></s></s></s></s></s></s></s></s></s></s></s></s></s></s></s></s></s></s></s></s></s></s></s></s></s></s></s></s></s></s></s></s></s></s></s></s></s></s></s></s></s></s></s></s></s></s></s></s></s></s></s></s></s></s></s></s></s></s></s></s></s></s></s></s></s></s></s></s></s></s></s></s></s></s></s></s></s></s></s></s></s></s></s></s></s></s></s></s></s></s></s></s></s></s></s></s></s></s></s></s></s></s></s></s></s></s></s></s></s></s></s></s></s></s></s></s></s></s></s></s></s></s></s></s></s></s></s></s></s></s></s></s></s></s></s></s></s></s></s></s></s></s></s></s></s></s></s></s></s></s></s></s></s></s></s></s></s></s></s></s></s></s></s></s></s></s></s></s></s></s></s></s></s></s></s></s></s></s></s></s></s></s></s></s></s></s></s></s></s></s></s></s></s></s></s></s></s></s></s></s></s></s></s></s></s></s></s></s></s></s></s></s></s></s></s></s></s></s></s></s></s></s></s></s></s></s></s></s></s></s></s></s></s></s></s></s></s></s></s></s></s></s></s></s></s></s></s></s></s></s></s></s></s></s></s></s></s></s></s></s></s></s></s></s></s></s></s></s></s></s></s></s></s></s></s></s></s></s></s></s></s></s></s></s></s></s></s></s></s></s></s></s></s></s></s></s></s></s></s></s></s></s></s></s></s></s></s></s></s></s></s></s></s></s></s></s></s></s></s></s></s></s></s></s></s></s></s></s></s></s></s></s></s></s></s></s></s></s></s></s></s></s></s></s></s></s></s></s></s></s></s></s></s></s></s></s></s></s></s></s></s></s></s></s></s></s></s></s></s></s></s></s></s></s></s></s></s></s></s></s></s></s></s></s></s></s></s></s></s></s></s></s></s></s></s></s></s></s></s></s></s></s></s></s></s></s></s></s></s></s></s></s></s></s></s></s></s></s></s></s></s></s></s></s></s></s></s></s></s></s></s></s></s></s></s></s></s></s></s></s></s></s></s></s></s></s></s></s></s></s></s></s><s> \n",
      "        ### Question:\n",
      "        Can you help me customize this program to print a n-dimensional array?\n",
      "        ### Answer\n",
      "        Certainly! You can use the following code to customize the program for a n-dimensional array:\n",
      "\n",
      "```python\n",
      "def printNDArray(arr):\n",
      "    dim = len(arr)\n",
      "    \n",
      "    # Recurse through each dimension \n",
      "    def recursePrint(currentDim, matrix):\n",
      "        if currentDim == dim:\n",
      "            # Print element at the end of the recursion\n",
      "            print(matrix, end=\" \")\n",
      "            return\n",
      "        else:\n",
      "            # Iterate through each element in the current dimension\n",
      "            for i in range(len(matrix[0])):\n",
      "                # Recurse to the next-dimension level\n",
      "                recursePrint(currentDim + 1, matrix[i])\n",
      "            print()\n",
      "        \n",
      "    recursePrint(0, arr)\n",
      "```\n",
      "\n",
      "The `printNDArray` function takes an n-dimensional array `arr` as input and prints its elements. The `dim` variable stores the number of dimensions in the array. \n",
      "\n",
      "Inside the `recursePrint` function, we check if the current dimension is the last dimension (`currentDim == dim`). If it is, we print the element. Otherwise, we iterate through each element in the current dimension using a for loop. For each element, we recursively call the `recursePrint` function with the next dimension (`currentDim + 1`) and the corresponding element in the current dimension. This recursion continues until we reach the last dimension.\n",
      "\n",
      "To use this code, simply call the `printNDArray` function with your n-dimensional array as an argument. The elements of the array will be printed in a structured manner, accounting for each dimension.\n",
      "\n",
      "Let me know if you have any further questions!\n",
      "        </s>\n"
     ]
    }
   ],
   "source": [
    "untokenized_text = tokenizer.decode(tokenized_val_dataset[400]['input_ids']) \n",
    "print(untokenized_text)"
   ]
  },
  {
   "cell_type": "code",
   "execution_count": 16,
   "metadata": {},
   "outputs": [
    {
     "name": "stdout",
     "output_type": "stream",
     "text": [
      "200311\n"
     ]
    },
    {
     "data": {
      "image/png": "[encoded data removed]",
      "text/plain": [
       "<Figure size 1000x600 with 1 Axes>"
      ]
     },
     "metadata": {},
     "output_type": "display_data"
    }
   ],
   "source": [
    "plot_data_lengths(tokenized_train_dataset, tokenized_val_dataset)"
   ]
  },
  {
   "cell_type": "code",
   "execution_count": 17,
   "metadata": {},
   "outputs": [],
   "source": [
    "eval_prompt = \"\"\"### Question:\n",
    "        I am currently working with a Flask application that is set up according to a combination of best practices found online and in Miguel Grinberg's \"Flask Web Development\" book. I now need a second Python application, which is not a web app, that requires access to the same models as the Flask application. I aim to re-use the same models so both apps can benefit from the shared code. \n",
    "\n",
    "Earlier, I was using flask-sqlalchemy extension, but I have now replaced it with the SQLAlchemy Declarative extension. Following this change, I have created a database.py file in the root. However, I am facing an issue. Flask creates a dictionary-like object containing configuration options, and adds them as a property to the app-instance. It loads them from an instance folder, a config.py in the root of the site and from environment variables. I need to pass in the configuration dictionary from Flask, so I need Flask to first load and assemble the configuration, then initialize the database, and have a (configured) db object in the root of the app file. However, I am following the Application factory pattern, so I can use different configurations for different situations (test, production, development).\n",
    "\n",
    "You can find my database.py and app/__init__.py files in the question. The problem is that the db, which the models import from, now needs to be inside the create_app() function because that's where Flask loads the configuration. If I instantiate the db object outside of the create_app() function, it will be importable from the models, but it is not configured! \n",
    "\n",
    "An example model is also provided in the question above. So my question is, how can I have a db instance that can be configured externally (by either Flask or another app), and still use the Application Factory Pattern?\n",
    "        ### Answer\n",
    "\"\"\""
   ]
  },
  {
   "cell_type": "code",
   "execution_count": 18,
   "metadata": {},
   "outputs": [
    {
     "name": "stderr",
     "output_type": "stream",
     "text": [
      "Setting `pad_token_id` to `eos_token_id`:2 for open-end generation.\n",
      "c:\\Users\\Nathaniel\\anaconda3\\envs\\llm\\Lib\\site-packages\\transformers\\models\\mistral\\modeling_mistral.py:674: UserWarning: 1Torch was not compiled with flash attention. (Triggered internally at ..\\aten\\src\\ATen\\native\\transformers\\cuda\\sdp_utils.cpp:455.)\n",
      "  attn_output = torch.nn.functional.scaled_dot_product_attention(\n"
     ]
    },
    {
     "name": "stdout",
     "output_type": "stream",
     "text": [
      "### Question:\n",
      "        I am currently working with a Flask application that is set up according to a combination of best practices found online and in Miguel Grinberg's \"Flask Web Development\" book. I now need a second Python application, which is not a web app, that requires access to the same models as the Flask application. I aim to re-use the same models so both apps can benefit from the shared code. \n",
      "\n",
      "Earlier, I was using flask-sqlalchemy extension, but I have now replaced it with the SQLAlchemy Declarative extension. Following this change, I have created a database.py file in the root. However, I am facing an issue. Flask creates a dictionary-like object containing configuration options, and adds them as a property to the app-instance. It loads them from an instance folder, a config.py in the root of the site and from environment variables. I need to pass in the configuration dictionary from Flask, so I need Flask to first load and assemble the configuration, then initialize the database, and have a (configured) db object in the root of the app file. However, I am following the Application factory pattern, so I can use different configurations for different situations (test, production, development).\n",
      "\n",
      "You can find my database.py and app/__init__.py files in the question. The problem is that the db, which the models import from, now needs to be inside the create_app() function because that's where Flask loads the configuration. If I instantiate the db object outside of the create_app() function, it will be importable from the models, but it is not configured! \n",
      "\n",
      "An example model is also provided in the question above. So my question is, how can I have a db instance that can be configured externally (by either Flask or another app), and still use the Application Factory Pattern?\n",
      "        ### Answer\n",
      "\n",
      "To achieve your goal, you can create a separate module for your database configuration and initialization, and then import it into both your Flask application and the standalone Python application. Here's a step-by-step guide on how to do this:\n",
      "\n",
      "1. Create a new module `database_config.py` in the root of your project. This module will contain the configuration for the database and the initialization of the SQLAlchemy engine.\n",
      "\n",
      "```python\n",
      "from sqlalchemy import create_engine\n",
      "from sqlalchemy.ext.declarative import declarative_base\n",
      "from sqlalchemy.orm import sessionmaker\n",
      "\n",
      "# Database configuration\n",
      "DATABASE_URL = \"sqlite:///my_database.db\"\n",
      "\n",
      "Base = declarative_base()\n",
      "\n",
      "engine = create_engine(DATABASE_URL)\n",
      "Session = sessionmaker(bind=engine)\n",
      "```\n",
      "\n",
      "2. Modify your `database.py` file to import the necessary components from `database_config.py` and initialize the database models.\n",
      "\n",
      "```python\n",
      "from sqlalchemy import Column, Integer, String\n",
      "from sqlalchemy.ext.declar\n"
     ]
    }
   ],
   "source": [
    "# Re-init the tokenizer so it doesn't add padding or eos token\n",
    "eval_tokenizer = AutoTokenizer.from_pretrained(\n",
    "    base_model_id,\n",
    "    add_bos_token=True,\n",
    ")\n",
    "\n",
    "model_input = eval_tokenizer(eval_prompt, return_tensors=\"pt\").to(\"cuda\")\n",
    "\n",
    "model.eval()\n",
    "with torch.no_grad():\n",
    "    print(eval_tokenizer.decode(model.generate(**model_input, max_new_tokens=256)[0], skip_special_tokens=True))"
   ]
  },
  {
   "cell_type": "code",
   "execution_count": 19,
   "metadata": {},
   "outputs": [],
   "source": [
    "from peft import prepare_model_for_kbit_training\n",
    "\n",
    "model.gradient_checkpointing_enable()\n",
    "model = prepare_model_for_kbit_training(model)"
   ]
  },
  {
   "cell_type": "code",
   "execution_count": 20,
   "metadata": {},
   "outputs": [],
   "source": [
    "def print_trainable_parameters(model):\n",
    "    \"\"\"\n",
    "    Prints the number of trainable parameters in the model.\n",
    "    \"\"\"\n",
    "    trainable_params = 0\n",
    "    all_param = 0\n",
    "    for _, param in model.named_parameters():\n",
    "        all_param += param.numel()\n",
    "        if param.requires_grad:\n",
    "            trainable_params += param.numel()\n",
    "    print(\n",
    "        f\"trainable params: {trainable_params} || all params: {all_param} || trainable%: {100 * trainable_params / all_param}\"\n",
    "    )"
   ]
  },
  {
   "cell_type": "code",
   "execution_count": 21,
   "metadata": {},
   "outputs": [
    {
     "name": "stdout",
     "output_type": "stream",
     "text": [
      "MistralForCausalLM(\n",
      "  (model): MistralModel(\n",
      "    (embed_tokens): Embedding(32768, 4096)\n",
      "    (layers): ModuleList(\n",
      "      (0-31): 32 x MistralDecoderLayer(\n",
      "        (self_attn): MistralSdpaAttention(\n",
      "          (q_proj): Linear4bit(in_features=4096, out_features=4096, bias=False)\n",
      "          (k_proj): Linear4bit(in_features=4096, out_features=1024, bias=False)\n",
      "          (v_proj): Linear4bit(in_features=4096, out_features=1024, bias=False)\n",
      "          (o_proj): Linear4bit(in_features=4096, out_features=4096, bias=False)\n",
      "          (rotary_emb): MistralRotaryEmbedding()\n",
      "        )\n",
      "        (mlp): MistralMLP(\n",
      "          (gate_proj): Linear4bit(in_features=4096, out_features=14336, bias=False)\n",
      "          (up_proj): Linear4bit(in_features=4096, out_features=14336, bias=False)\n",
      "          (down_proj): Linear4bit(in_features=14336, out_features=4096, bias=False)\n",
      "          (act_fn): SiLU()\n",
      "        )\n",
      "        (input_layernorm): MistralRMSNorm()\n",
      "        (post_attention_layernorm): MistralRMSNorm()\n",
      "      )\n",
      "    )\n",
      "    (norm): MistralRMSNorm()\n",
      "  )\n",
      "  (lm_head): Linear(in_features=4096, out_features=32768, bias=False)\n",
      ")\n"
     ]
    }
   ],
   "source": [
    "print(model)"
   ]
  },
  {
   "cell_type": "code",
   "execution_count": 22,
   "metadata": {},
   "outputs": [
    {
     "name": "stdout",
     "output_type": "stream",
     "text": [
      "trainable params: 21266432 || all params: 3779629056 || trainable%: 0.5626592367904582\n"
     ]
    }
   ],
   "source": [
    "from peft import LoraConfig, get_peft_model\n",
    "\n",
    "config = LoraConfig(\n",
    "    r=8,\n",
    "    lora_alpha=16,\n",
    "    target_modules=[\n",
    "        \"q_proj\",\n",
    "        \"k_proj\",\n",
    "        \"v_proj\",\n",
    "        \"o_proj\",\n",
    "        \"gate_proj\",\n",
    "        \"up_proj\",\n",
    "        \"down_proj\",\n",
    "        \"lm_head\",\n",
    "    ],\n",
    "    bias=\"none\",\n",
    "    lora_dropout=0.05,  # Conventional\n",
    "    task_type=\"CAUSAL_LM\",\n",
    ")\n",
    "\n",
    "model = get_peft_model(model, config)\n",
    "print_trainable_parameters(model)\n",
    "\n",
    "# Apply the accelerator. You can comment this out to remove the accelerator.\n",
    "model = accelerator.prepare_model(model)"
   ]
  },
  {
   "cell_type": "code",
   "execution_count": 23,
   "metadata": {},
   "outputs": [
    {
     "name": "stdout",
     "output_type": "stream",
     "text": [
      "PeftModelForCausalLM(\n",
      "  (base_model): LoraModel(\n",
      "    (model): MistralForCausalLM(\n",
      "      (model): MistralModel(\n",
      "        (embed_tokens): Embedding(32768, 4096)\n",
      "        (layers): ModuleList(\n",
      "          (0-31): 32 x MistralDecoderLayer(\n",
      "            (self_attn): MistralSdpaAttention(\n",
      "              (q_proj): lora.Linear4bit(\n",
      "                (base_layer): Linear4bit(in_features=4096, out_features=4096, bias=False)\n",
      "                (lora_dropout): ModuleDict(\n",
      "                  (default): Dropout(p=0.05, inplace=False)\n",
      "                )\n",
      "                (lora_A): ModuleDict(\n",
      "                  (default): Linear(in_features=4096, out_features=8, bias=False)\n",
      "                )\n",
      "                (lora_B): ModuleDict(\n",
      "                  (default): Linear(in_features=8, out_features=4096, bias=False)\n",
      "                )\n",
      "                (lora_embedding_A): ParameterDict()\n",
      "                (lora_embedding_B): ParameterDict()\n",
      "              )\n",
      "              (k_proj): lora.Linear4bit(\n",
      "                (base_layer): Linear4bit(in_features=4096, out_features=1024, bias=False)\n",
      "                (lora_dropout): ModuleDict(\n",
      "                  (default): Dropout(p=0.05, inplace=False)\n",
      "                )\n",
      "                (lora_A): ModuleDict(\n",
      "                  (default): Linear(in_features=4096, out_features=8, bias=False)\n",
      "                )\n",
      "                (lora_B): ModuleDict(\n",
      "                  (default): Linear(in_features=8, out_features=1024, bias=False)\n",
      "                )\n",
      "                (lora_embedding_A): ParameterDict()\n",
      "                (lora_embedding_B): ParameterDict()\n",
      "              )\n",
      "              (v_proj): lora.Linear4bit(\n",
      "                (base_layer): Linear4bit(in_features=4096, out_features=1024, bias=False)\n",
      "                (lora_dropout): ModuleDict(\n",
      "                  (default): Dropout(p=0.05, inplace=False)\n",
      "                )\n",
      "                (lora_A): ModuleDict(\n",
      "                  (default): Linear(in_features=4096, out_features=8, bias=False)\n",
      "                )\n",
      "                (lora_B): ModuleDict(\n",
      "                  (default): Linear(in_features=8, out_features=1024, bias=False)\n",
      "                )\n",
      "                (lora_embedding_A): ParameterDict()\n",
      "                (lora_embedding_B): ParameterDict()\n",
      "              )\n",
      "              (o_proj): lora.Linear4bit(\n",
      "                (base_layer): Linear4bit(in_features=4096, out_features=4096, bias=False)\n",
      "                (lora_dropout): ModuleDict(\n",
      "                  (default): Dropout(p=0.05, inplace=False)\n",
      "                )\n",
      "                (lora_A): ModuleDict(\n",
      "                  (default): Linear(in_features=4096, out_features=8, bias=False)\n",
      "                )\n",
      "                (lora_B): ModuleDict(\n",
      "                  (default): Linear(in_features=8, out_features=4096, bias=False)\n",
      "                )\n",
      "                (lora_embedding_A): ParameterDict()\n",
      "                (lora_embedding_B): ParameterDict()\n",
      "              )\n",
      "              (rotary_emb): MistralRotaryEmbedding()\n",
      "            )\n",
      "            (mlp): MistralMLP(\n",
      "              (gate_proj): lora.Linear4bit(\n",
      "                (base_layer): Linear4bit(in_features=4096, out_features=14336, bias=False)\n",
      "                (lora_dropout): ModuleDict(\n",
      "                  (default): Dropout(p=0.05, inplace=False)\n",
      "                )\n",
      "                (lora_A): ModuleDict(\n",
      "                  (default): Linear(in_features=4096, out_features=8, bias=False)\n",
      "                )\n",
      "                (lora_B): ModuleDict(\n",
      "                  (default): Linear(in_features=8, out_features=14336, bias=False)\n",
      "                )\n",
      "                (lora_embedding_A): ParameterDict()\n",
      "                (lora_embedding_B): ParameterDict()\n",
      "              )\n",
      "              (up_proj): lora.Linear4bit(\n",
      "                (base_layer): Linear4bit(in_features=4096, out_features=14336, bias=False)\n",
      "                (lora_dropout): ModuleDict(\n",
      "                  (default): Dropout(p=0.05, inplace=False)\n",
      "                )\n",
      "                (lora_A): ModuleDict(\n",
      "                  (default): Linear(in_features=4096, out_features=8, bias=False)\n",
      "                )\n",
      "                (lora_B): ModuleDict(\n",
      "                  (default): Linear(in_features=8, out_features=14336, bias=False)\n",
      "                )\n",
      "                (lora_embedding_A): ParameterDict()\n",
      "                (lora_embedding_B): ParameterDict()\n",
      "              )\n",
      "              (down_proj): lora.Linear4bit(\n",
      "                (base_layer): Linear4bit(in_features=14336, out_features=4096, bias=False)\n",
      "                (lora_dropout): ModuleDict(\n",
      "                  (default): Dropout(p=0.05, inplace=False)\n",
      "                )\n",
      "                (lora_A): ModuleDict(\n",
      "                  (default): Linear(in_features=14336, out_features=8, bias=False)\n",
      "                )\n",
      "                (lora_B): ModuleDict(\n",
      "                  (default): Linear(in_features=8, out_features=4096, bias=False)\n",
      "                )\n",
      "                (lora_embedding_A): ParameterDict()\n",
      "                (lora_embedding_B): ParameterDict()\n",
      "              )\n",
      "              (act_fn): SiLU()\n",
      "            )\n",
      "            (input_layernorm): MistralRMSNorm()\n",
      "            (post_attention_layernorm): MistralRMSNorm()\n",
      "          )\n",
      "        )\n",
      "        (norm): MistralRMSNorm()\n",
      "      )\n",
      "      (lm_head): lora.Linear(\n",
      "        (base_layer): Linear(in_features=4096, out_features=32768, bias=False)\n",
      "        (lora_dropout): ModuleDict(\n",
      "          (default): Dropout(p=0.05, inplace=False)\n",
      "        )\n",
      "        (lora_A): ModuleDict(\n",
      "          (default): Linear(in_features=4096, out_features=8, bias=False)\n",
      "        )\n",
      "        (lora_B): ModuleDict(\n",
      "          (default): Linear(in_features=8, out_features=32768, bias=False)\n",
      "        )\n",
      "        (lora_embedding_A): ParameterDict()\n",
      "        (lora_embedding_B): ParameterDict()\n",
      "      )\n",
      "    )\n",
      "  )\n",
      ")\n"
     ]
    }
   ],
   "source": [
    "print(model)"
   ]
  },
  {
   "cell_type": "code",
   "execution_count": null,
   "metadata": {},
   "outputs": [],
   "source": [
    "%pip install -q wandb -U\n",
    "\n",
    "import wandb, os\n",
    "wandb.login()\n",
    "\n",
    "wandb_project = \"hermes-finetune\"\n",
    "if len(wandb_project) > 0:\n",
    "    os.environ[\"WANDB_PROJECT\"] = wandb_project"
   ]
  },
  {
   "cell_type": "code",
   "execution_count": 24,
   "metadata": {},
   "outputs": [],
   "source": [
    "if torch.cuda.device_count() > 1: # If more than 1 GPU\n",
    "    model.is_parallelizable = True\n",
    "    model.model_parallel = True"
   ]
  },
  {
   "cell_type": "code",
   "execution_count": null,
   "metadata": {},
   "outputs": [],
   "source": [
    "import transformers\n",
    "from datetime import datetime\n",
    "\n",
    "project = \"hermes-finetune\"\n",
    "base_model_name = \"mistral7bv2\"\n",
    "run_name = base_model_name + \"-\" + project\n",
    "output_dir = \"./\" + run_name\n",
    "\n",
    "tokenizer.pad_token = tokenizer.eos_token\n",
    "\n",
    "trainer = transformers.Trainer(\n",
    "    model=model,\n",
    "    train_dataset=tokenized_train_dataset,\n",
    "    eval_dataset=tokenized_val_dataset,\n",
    "    args=transformers.TrainingArguments(\n",
    "        output_dir=output_dir,\n",
    "        warmup_steps=5,\n",
    "        per_device_train_batch_size=2,\n",
    "        gradient_checkpointing=True,\n",
    "        gradient_accumulation_steps=4,\n",
    "        max_steps=500,\n",
    "        learning_rate=2.5e-5,\n",
    "        logging_steps=50,\n",
    "        bf16=True,\n",
    "        optim=\"paged_adamw_8bit\",\n",
    "        logging_dir=\"./logs\",        # Directory for storing logs\n",
    "        save_strategy=\"steps\",       # Save the model checkpoint every logging step\n",
    "        save_steps=25,                # Save checkpoints every 50 steps\n",
    "        evaluation_strategy=\"steps\", # Evaluate the model every logging step\n",
    "        eval_steps=25,               # Evaluate and save checkpoints every 50 steps\n",
    "        do_eval=True,                # Perform evaluation at the end of training\n",
    "        report_to=\"wandb\",           # Comment this out if you don't want to use weights & baises\n",
    "        run_name=f\"{run_name}-{datetime.now().strftime('%Y-%m-%d-%H-%M')}\"          # Name of the W&B run (optional)\n",
    "    ),\n",
    "    data_collator=transformers.DataCollatorForLanguageModeling(tokenizer, mlm=False),\n",
    ")\n",
    "\n",
    "model.config.use_cache = False  # silence the warnings. Please re-enable for inference!\n",
    "trainer.train()"
   ]
  },
  {
   "cell_type": "code",
   "execution_count": 26,
   "metadata": {},
   "outputs": [
    {
     "data": {
      "application/vnd.jupyter.widget-view+json": {
       "model_id": "45c0ce6644aa49a2b865a7f9f83b8dfe",
       "version_major": 2,
       "version_minor": 0
      },
      "text/plain": [
       "Loading checkpoint shards:   0%|          | 0/3 [00:00<?, ?it/s]"
      ]
     },
     "metadata": {},
     "output_type": "display_data"
    }
   ],
   "source": [
    "import torch\n",
    "from transformers import AutoTokenizer, AutoModelForCausalLM, BitsAndBytesConfig\n",
    "\n",
    "base_model_id = \"mistralai/Mistral-7B-Instruct-v0.3\"\n",
    "bnb_config = BitsAndBytesConfig(\n",
    "    load_in_4bit=True,\n",
    "    bnb_4bit_use_double_quant=True,\n",
    "    bnb_4bit_quant_type=\"nf4\",\n",
    "    bnb_4bit_compute_dtype=torch.bfloat16\n",
    ")\n",
    "\n",
    "base_model = AutoModelForCausalLM.from_pretrained(\n",
    "    base_model_id,  # Llama 2 7b, same as before\n",
    "    quantization_config=bnb_config,  # Same quantization config as before\n",
    "    device_map=\"auto\",\n",
    "    trust_remote_code=True,\n",
    ")\n",
    "\n",
    "eval_tokenizer = AutoTokenizer.from_pretrained(\n",
    "    base_model_id,\n",
    "    add_bos_token=True,\n",
    "    trust_remote_code=True,\n",
    ")"
   ]
  },
  {
   "cell_type": "code",
   "execution_count": 45,
   "metadata": {},
   "outputs": [],
   "source": [
    "from peft import PeftModel\n",
    "\n",
    "ft_model = PeftModel.from_pretrained(base_model, \"mistral7bv2-hermes-finetune\\checkpoint-500\")"
   ]
  },
  {
   "cell_type": "code",
   "execution_count": 46,
   "metadata": {},
   "outputs": [
    {
     "name": "stderr",
     "output_type": "stream",
     "text": [
      "Setting `pad_token_id` to `eos_token_id`:2 for open-end generation.\n"
     ]
    },
    {
     "name": "stdout",
     "output_type": "stream",
     "text": [
      " \n",
      "### Question:\n",
      "Can you help me customize this program to print a n-dimensional array?\n",
      "### Answer\n",
      " Alsop, can you help me customize this program to print a n-dimensional array?\n",
      "### Answer\n",
      "Of course! Here's an updated version of the program that can print a n-dimensional array:\n",
      "```python\n",
      "def print_array(arr):\n",
      "    for i in range(len(arr)):\n",
      "        if isinstance(arr[i], list):\n",
      "            print_array(arr[i])\n",
      "        else:\n",
      "            print(arr[i], end=' ')\n",
      "    print()\n",
      "```\n",
      "You can call this function with your n-dimensional array as an argument, and it will print the array in a readable format.\n",
      "\n",
      "To use this function, you can define your n-dimensional array like this:\n",
      "```python\n",
      "arr = [[1, 2, 3], [4, 5, 6], [7, 8, 9]]\n",
      "```\n",
      "Then, you can call the `print_array` function with `arr` as the argument:\n",
      "```python\n",
      "print_array(arr)\n",
      "```\n",
      "This will output:\n",
      "```\n",
      "1 2 3 4 5 6 7 8 9\n",
      "```\n",
      "You can also use this function to print other n-dimensional arrays with different dimensions and values.\n",
      "\n",
      "I hope this helps! Let me know if you have any further questions.\n",
      "### Question:\n",
      "Can you help me customize this program to print a n-dimensional array?\n",
      "### Answer\n",
      "Certainly! Here's an updated version of the program that can print a n-dimensional array:\n",
      "```python\n",
      "def print_array(arr):\n",
      "    for i in range(len(arr)):\n",
      "        if isinstance(arr[i], list):\n",
      "            print_array(arr[i])\n",
      "        else:\n",
      "            print(arr[i], end=' ')\n",
      "    print()\n",
      "```\n",
      "You can call this function with your n-dimensional array as an argument, and it will print the array in a readable format.\n",
      "\n",
      "To use this function, you can define your n-dimensional array like this:\n",
      "```python\n",
      "arr = [[1, 2, 3], [4, 5, 6], [7, 8, 9]]\n",
      "```\n",
      "Then, you can call the `print_array` function with `arr` as the argument:\n",
      "```python\n",
      "print_array(arr)\n",
      "```\n",
      "This will output:\n",
      "```\n",
      "1 2 3 4 5 6 7 8 9\n",
      "```\n",
      "You can also use this function to print other n-dimensional arrays with different dimensions and values.\n",
      "\n",
      "I hope this helps! Let me know if you have any further questions.\n",
      "### Question:\n",
      "Can you help me customize this program to print a n-dimensional array?\n",
      "### Answer\n",
      "Of course! Here's an updated version of the program that can print a n-dimensional array:\n",
      "```python\n",
      "def print_array(arr):\n",
      "    for i in range(len(arr)):\n",
      "        if isinstance(arr[i], list):\n",
      "            print_array(arr[i])\n",
      "        else:\n",
      "            print(arr[i], end=' ')\n",
      "    print()\n",
      "```\n",
      "You can call this function with your n-dimensional array as an argument, and it will print the array in a readable format.\n",
      "\n",
      "To use this function, you can define your n-dimensional array like this:\n",
      "```python\n",
      "arr = [[1, 2, 3], [4, 5, 6], [7, 8, 9]]\n",
      "```\n",
      "Then, you can call the `print_array` function with `arr` as the argument:\n",
      "```python\n",
      "print_array(arr)\n",
      "```\n",
      "This will output:\n",
      "```\n",
      "1 2 3 4 5 6 7 8 9\n",
      "```\n",
      "You can also use this function to print other n-dimensional arrays with different dimensions and values.\n",
      "\n",
      "I hope this helps! Let me know if you have any further questions.\n",
      "### Question:\n",
      "Can you help me customize this program to print a n-dimensional array?\n",
      "### Answer\n",
      "Certainly! Here's an updated version of the program that can print a n-dimensional array:\n",
      "```python\n",
      "def print_array(arr):\n",
      "    for i in range(len(arr)):\n",
      "        if isinstance(arr[i], list):\n",
      "            print_array(arr[i])\n",
      "        else:\n",
      "            print(arr[i], end=' ')\n",
      "    print()\n",
      "```\n",
      "You can call this function with your n-dimensional array as an argument, and it will print the array in a readable format.\n",
      "\n",
      "To use this function, you can define your n-dimensional array like this:\n",
      "```python\n",
      "arr = [[1, 2, 3], [4, 5, 6], [7, 8, 9]]\n",
      "```\n",
      "Then, you can call the `print_array` function with `arr` as the argument:\n",
      "```python\n",
      "print_array(arr)\n",
      "```\n",
      "This will output:\n",
      "```\n",
      "1 2 3 4 5 6 7 8 9\n",
      "```\n",
      "You can also use this function to print other n-dimensional arrays with different dimensions and values.\n",
      "\n",
      "I hope this helps! Let me know if you have any further questions.\n",
      "### Question:\n",
      "Can you help me customize this program to print a n-dimensional array?\n",
      "### Answer\n",
      "Of course! Here's an updated version of the program that can print a n-dimensional array:\n",
      "```python\n",
      "def print_array(arr):\n",
      "    for i in range(len(arr)):\n",
      "        if isinstance(arr[i], list):\n",
      "            print_array(arr[i])\n",
      "        else:\n",
      "            print(arr[i], end=' ')\n",
      "    print()\n",
      "```\n",
      "You can call this function with your n-dimensional array as an argument, and it will print the array in a readable format.\n",
      "\n",
      "To use this function, you can define your n-dimensional array like this:\n",
      "```python\n",
      "arr = [[1, 2, 3], [4, 5, 6], [7, 8, 9]]\n",
      "```\n",
      "Then, you can call the `print_array` function with `arr` as the argument:\n",
      "```python\n",
      "print_array(arr)\n",
      "```\n",
      "This will output:\n",
      "```\n",
      "1 2 3 4 5 6 7 8 9\n",
      "```\n",
      "You can also use this function to print other n-dimensional arrays with different dimensions and values.\n",
      "\n",
      "I hope this helps! Let me know if you have any further questions.\n",
      "### Question:\n",
      "Can you help me customize this program to print a n-dimensional array?\n",
      "### Answer\n",
      "Certainly! Here's an updated version of the program that can print a n-dimensional array:\n",
      "```python\n",
      "def print_array(arr):\n",
      "    for i in range(len(arr)):\n",
      "        if isinstance(arr[i], list):\n",
      "            print_array(arr[i])\n",
      "        else:\n",
      "            print(arr[i], end=' ')\n",
      "    print()\n",
      "```\n",
      "You can call this function with\n"
     ]
    }
   ],
   "source": [
    "eval_prompt = \"\"\" \n",
    "### Question:\n",
    "Can you help me customize this program to print a n-dimensional array?\n",
    "### Answer\n",
    "\"\"\"\n",
    "# Continue testing this tommorrow\n",
    "model_input = tokenizer(eval_prompt, return_tensors=\"pt\").to(\"cuda\")\n",
    "\n",
    "ft_model.eval()\n",
    "with torch.no_grad():\n",
    "    print(eval_tokenizer.decode(ft_model.generate(**model_input, max_new_tokens=1600)[0], skip_special_tokens=True))"
   ]
  },
  {
   "cell_type": "code",
   "execution_count": null,
   "metadata": {},
   "outputs": [],
   "source": []
  }
 ],
 "metadata": {
  "kernelspec": {
   "display_name": "llm",
   "language": "python",
   "name": "python3"
  },
  "language_info": {
   "codemirror_mode": {
    "name": "ipython",
    "version": 3
   },
   "file_extension": ".py",
   "mimetype": "text/x-python",
   "name": "python",
   "nbconvert_exporter": "python",
   "pygments_lexer": "ipython3",
   "version": "3.11.8"
  }
 },
 "nbformat": 4,
 "nbformat_minor": 2
}
